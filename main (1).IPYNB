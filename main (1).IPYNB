import torch
import torch.nn as nn
import torchvision.transforms as transforms
from torchvision import models
from PIL import Image
import faiss
import numpy as np
import os

# ------------------------------
# 1. Model Setup (Feature Extractor)
# ------------------------------
class LandmarkFeatureExtractor(nn.Module):
    def __init__(self):
        super(LandmarkFeatureExtractor, self).__init__()
        # Load pretrained ResNet50
        backbone = models.resnet50(pretrained=True)
        # Remove final classification layer (FC)
        self.feature_extractor = nn.Sequential(*list(backbone.children())[:-1])  # remove fc

    def forward(self, x):
        with torch.no_grad():
            features = self.feature_extractor(x)
            features = features.view(features.size(0), -1)  # Flatten
            features = torch.nn.functional.normalize(features, p=2, dim=1)  # L2 normalize
        return features


# ------------------------------
# 2. Preprocessing Pipeline
# ------------------------------
transform = transforms.Compose([
    transforms.Resize((224, 224)),
    transforms.ToTensor(),
    transforms.Normalize(mean=[0.485, 0.456, 0.406],
                         std=[0.229, 0.224, 0.225]),
])


# ------------------------------
# 3. Helper Function: Image → Embedding
# ------------------------------
def extract_embedding(image_path, model, device="cpu"):
    model.eval()
    img = Image.open(image_path).convert("RGB")
    img_t = transform(img).unsqueeze(0).to(device)
    embedding = model(img_t).cpu().numpy()
    return embedding


# ------------------------------
# 4. Build FAISS Index for Gallery Images
# ------------------------------
def build_index(gallery_folder, model, device="cpu"):
    index = None
    image_list = []
    embeddings = []

    for img_name in os.listdir(gallery_folder):
        path = os.path.join(gallery_folder, img_name)
        emb = extract_embedding(path, model, device)
        embeddings.append(emb)
        image_list.append(img_name)

    embeddings = np.vstack(embeddings).astype("float32")

    # FAISS index (L2)
    index = faiss.IndexFlatL2(embeddings.shape[1])
    index.add(embeddings)

    return index, image_list


# ------------------------------
# 5. Landmark Detection (Query Image)
# ------------------------------
def detect_landmark(query_image, index, image_list, model, device="cpu", top_k=3):
    query_emb = extract_embedding(query_image, model, device).astype("float32")
    distances, indices = index.search(query_emb, top_k)

    results = [(image_list[i], float(distances[0][j]))
               for j, i in enumerate(indices[0])]
    return results


# ------------------------------
# Example Usage
# ------------------------------
if __name__ == "__main__":
    device = "cuda" if torch.cuda.is_available() else "cpu"
    model = LandmarkFeatureExtractor().to(device)

    # 1. Build gallery index
    gallery_folder = "gallery_landmarks"  # <-- put reference landmark images here
    index, image_list = build_index(gallery_folder, model, device)

    # 2. Detect landmark for a query image
    query_image = "test.jpg"  # <-- input query image
    results = detect_landmark(query_image, index, image_list, model, device)

    print("\nQuery Image:", query_image)
    print("Top matches:")
    for img_name, dist in results:
        print(f"  {img_name} (distance: {dist:.4f})")